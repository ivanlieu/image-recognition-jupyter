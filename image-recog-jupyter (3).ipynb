{
 "cells": [
  {
   "cell_type": "code",
   "execution_count": 45,
   "id": "72e20081-9bd9-427a-8295-1c219a14e9a2",
   "metadata": {},
   "outputs": [],
   "source": [
    "import torch\n",
    "from torchvision import datasets, transforms\n",
    "from torchvision.utils import save_image\n",
    "from torch import nn\n",
    "import numpy as np"
   ]
  },
  {
   "cell_type": "code",
   "execution_count": 2,
   "id": "8fe4ea6d-de13-4059-8ff5-a399dc9b7bfe",
   "metadata": {},
   "outputs": [],
   "source": [
    "class cnnEvalModel():\n",
    "    def __init__(self, modelFilePath):\n",
    "\n",
    "        self.images = None\n",
    "        self.labels = None\n",
    "        self.logps = None\n",
    "        self.output = None\n",
    "        self.pred = None\n",
    "        self.img = None\n",
    "        self.imgOut = None\n",
    "\n",
    "        # torch.manual_seed(0)  # set for repeatable result\n",
    "        torch.backends.cudnn.deterministic = True\n",
    "        torch.backends.cudnn.benchmark = False\n",
    "\n",
    "        np.random.seed(0)\n",
    "\n",
    "        self.device = torch.device(\"cpu\")\n",
    "        print(self.device)\n",
    "\n",
    "        mean, std = (0.5,), (0.5,)\n",
    "\n",
    "        # Create a transform and normalise data\n",
    "        transform = transforms.Compose([transforms.ToTensor(),\n",
    "                                        transforms.Normalize(mean, std)\n",
    "                                      ])\n",
    "        # Download FMNIST test dataset and load test data\n",
    "        self.testset = datasets.FashionMNIST('~/.pytorch/FMNIST/', download=True, train=False, transform=transform)\n",
    "        self.testloader = torch.utils.data.DataLoader(self.testset, batch_size=1, shuffle=True)\n",
    "\n",
    "        self.modelPath = modelFilePath\n",
    "\n",
    "        self.model = torch.jit.load(self.modelPath, self.device)\n",
    "        self.model.eval()\n",
    "\n",
    "    def denormalize(tensor):\n",
    "        \"\"\"denormalizes a supplied tensor and returns it\"\"\"\n",
    "        tensor = tensor*0.5 + 0.5\n",
    "        return tensor\n",
    "\n",
    "    def runModel(self, count):\n",
    "        \"\"\"Runs the cnn model based on the iteration count for test set and converts model tensor outputs\n",
    "        to regular python data types\n",
    "            Accepts count as an integer\"\"\"\n",
    "\n",
    "        tempCount = 0\n",
    "        # iterating to the number of counts in arg count\n",
    "        for batch, (tempImg, tempLabel) in enumerate(self.testloader, 1):\n",
    "            \n",
    "            tempCount += 1\n",
    "            \n",
    "            if tempCount == count:\n",
    "                self.images = tempImg\n",
    "                self.labels = tempLabel\n",
    "\n",
    "                break\n",
    "\n",
    "        # send image and label tensors to GPU memory\n",
    "        self.images = self.images.to(self.device)\n",
    "        self.labels = self.labels.to(self.device)\n",
    "\n",
    "        # run model on loaded image and label data\n",
    "        self.logps = self.model(self.images)\n",
    "\n",
    "        # parse model output\n",
    "        self.output = torch.exp(self.logps)\n",
    "        self.pred = torch.argmax(self.output, 1)\n",
    "\n",
    "        # copy 1-D tensor to cpu memory and convert to python integer\n",
    "        self.pred = self.pred.item()\n",
    "        self.labels = self.labels.item()\n",
    "\n",
    "        # copy image data to cpu memory\n",
    "        self.img = self.images\n",
    "\n",
    "    def runImagePlotData(self):\n",
    "        \"\"\"processes and returns image tensor data in a form ready to be plotted with matplotlib\"\"\"\n",
    "        self.imgOut = self.img.view(28, -1)\n",
    "        self.imgOut = cnnEvalModel.denormalize(self.imgOut)"
   ]
  },
  {
   "cell_type": "code",
   "execution_count": 3,
   "id": "aee9161d-e60a-4552-82b7-db76b05741b4",
   "metadata": {},
   "outputs": [],
   "source": [
    "filePath = 'best_model_acc_2convL_2FCL_9178.pt'"
   ]
  },
  {
   "cell_type": "code",
   "execution_count": 4,
   "id": "4f24bb28-f813-4776-833a-ccc1b730e8a9",
   "metadata": {},
   "outputs": [
    {
     "name": "stdout",
     "output_type": "stream",
     "text": [
      "cpu\n"
     ]
    }
   ],
   "source": [
    "cnnModel = cnnEvalModel(filePath)"
   ]
  },
  {
   "cell_type": "code",
   "execution_count": 6,
   "id": "83cddf64-759c-4169-ae36-e10ccad4a9df",
   "metadata": {},
   "outputs": [],
   "source": [
    "cnnModel.runModel(1)"
   ]
  },
  {
   "cell_type": "code",
   "execution_count": 7,
   "id": "ee2e95d9-d93b-41b5-86c3-d2657e25cc77",
   "metadata": {},
   "outputs": [],
   "source": [
    "cnnModel.runImagePlotData()"
   ]
  },
  {
   "cell_type": "code",
   "execution_count": 11,
   "id": "4c4927b2-b8be-405d-9524-9fd39867f920",
   "metadata": {},
   "outputs": [],
   "source": [
    "import math\n",
    "from matplotlib.backends.backend_tkagg import FigureCanvasTkAgg\n",
    "import matplotlib.pyplot as plt\n",
    "import io\n",
    "from PIL import Image"
   ]
  },
  {
   "cell_type": "code",
   "execution_count": 20,
   "id": "69bea98e-ca08-42b7-bdc8-3345cfb3a4c0",
   "metadata": {},
   "outputs": [
    {
     "data": {
      "text/plain": [
       "<Figure size 360x396 with 0 Axes>"
      ]
     },
     "metadata": {},
     "output_type": "display_data"
    }
   ],
   "source": [
    "fig = plt.figure(figsize=(5, 5.5))"
   ]
  },
  {
   "cell_type": "code",
   "execution_count": 21,
   "id": "67330fd5-abae-4ab7-a159-3d1e17328ed3",
   "metadata": {},
   "outputs": [
    {
     "data": {
      "image/png": "[encoded data removed]",
      "text/plain": [
       "<Figure size 432x288 with 1 Axes>"
      ]
     },
     "metadata": {
      "needs_background": "light"
     },
     "output_type": "display_data"
    }
   ],
   "source": [
    "imgPlot = plt.imshow(cnnModel.imgOut, cmap = 'gray')"
   ]
  },
  {
   "cell_type": "code",
   "execution_count": 46,
   "id": "98f9dfe7-0048-496f-b319-829347de7d7c",
   "metadata": {},
   "outputs": [],
   "source": [
    "save_image(cnnModel.imgOut,'tensorImage.png')"
   ]
  },
  {
   "cell_type": "code",
   "execution_count": 48,
   "id": "72285b9d-63b8-4aa8-8c77-b51866bf0fe0",
   "metadata": {},
   "outputs": [],
   "source": [
    "import ipywidgets as widgets"
   ]
  },
  {
   "cell_type": "code",
   "execution_count": 76,
   "id": "a5570570-2e4a-4ef9-84fc-afa444190e60",
   "metadata": {},
   "outputs": [
    {
     "data": {
      "application/vnd.jupyter.widget-view+json": {
       "model_id": "2cd4afa68ec545c088526125ad82821a",
       "version_major": 2,
       "version_minor": 0
      },
      "text/plain": [
       "Image(value=b'\\x89PNG\\r\\n\\x1a\\n\\x00\\x00\\x00\\rIHDR\\x00\\x00\\x00\\x1c\\x00\\x00\\x00\\x1c\\x08\\x02\\x00\\x00\\x00\\xfdoH\\xc…"
      ]
     },
     "metadata": {},
     "output_type": "display_data"
    },
    {
     "data": {
      "application/vnd.jupyter.widget-view+json": {
       "model_id": "9edfcd79271b46e688e9dece3e73cf77",
       "version_major": 2,
       "version_minor": 0
      },
      "text/plain": [
       "VBox(children=(HBox(children=(Button(description='t-shirt / top', layout=Layout(height='50px', width='100px'),…"
      ]
     },
     "metadata": {},
     "output_type": "display_data"
    }
   ],
   "source": [
    "file = open('tensorImage.png', 'rb')\n",
    "image = file.read()\n",
    "imageWidget = widgets.Image(\n",
    "    value = image,\n",
    "    format = 'png',\n",
    "    width = 400,\n",
    "    height = 400,\n",
    ")\n",
    "\n",
    "buttonLabels = ['t-shirt / top', \n",
    "                'pants / \\ntrousers', \n",
    "                'pullover / \\nsweater', \n",
    "                'dress', \n",
    "                'coat / jacket', \n",
    "                'sandal / \\nopen-toe', \n",
    "                'shirt / \\nbutton-up', \n",
    "                'sport / \\ncasual shoes', \n",
    "                'bag / purse', \n",
    "                'ankle boots'\n",
    "               ]\n",
    "\n",
    "buttons = [widgets.Button(description = labels,\n",
    "                          layout = widgets.Layout(width = '100px',\n",
    "                                          height = '50px')) for labels in buttonLabels]\n",
    "\n",
    "topBox = widgets.HBox([buttons[0], buttons[1], buttons[2], buttons[3], buttons[4]])\n",
    "botBox = widgets.HBox([buttons[5], buttons[6], buttons[7], buttons[8], buttons[9]])\n",
    "\n",
    "orderedButtons = widgets.VBox([topBox, botBox])\n",
    "display(imageWidget, orderedButtons)"
   ]
  },
  {
   "cell_type": "code",
   "execution_count": null,
   "id": "498ba570-9bb6-45fb-9055-caec9a2d6e5c",
   "metadata": {},
   "outputs": [],
   "source": []
  }
 ],
 "metadata": {
  "kernelspec": {
   "display_name": "Python 3 (ipykernel)",
   "language": "python",
   "name": "python3"
  },
  "language_info": {
   "codemirror_mode": {
    "name": "ipython",
    "version": 3
   },
   "file_extension": ".py",
   "mimetype": "text/x-python",
   "name": "python",
   "nbconvert_exporter": "python",
   "pygments_lexer": "ipython3",
   "version": "3.7.12"
  }
 },
 "nbformat": 4,
 "nbformat_minor": 5
}
